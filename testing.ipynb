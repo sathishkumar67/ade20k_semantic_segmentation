{
 "cells": [
  {
   "cell_type": "code",
   "execution_count": 1,
   "metadata": {},
   "outputs": [],
   "source": [
    "import torch\n",
    "\n",
    "state_dict = torch.load(\"checkpoints/train.pth\", map_location=\"cpu\", weights_only=True)"
   ]
  },
  {
   "cell_type": "code",
   "execution_count": null,
   "metadata": {},
   "outputs": [],
   "source": [
    "# # for visualizations\n",
    "# import numpy as np\n",
    "# import matplotlib.pyplot as plt\n",
    "\n",
    "# # Simulate a segmentation mask (replace this with your actual mask)\n",
    "# np.random.seed(42)  # For reproducibility\n",
    "# # segmentation_mask = np.random.randint(0, 151, size=(224, 224), dtype=np.uint8)\n",
    "\n",
    "# # Create a colormap with 151 discrete colors using 'hsv'\n",
    "# cmap = plt.get_cmap('hsv', 151)\n",
    "\n",
    "# # Plot the mask\n",
    "# plt.figure(figsize=(8, 8))\n",
    "# plt.imshow(predicted[0].detach().cpu().numpy(), cmap=cmap, vmin=0, vmax=150, interpolation='nearest')\n",
    "# cbar = plt.colorbar(ticks=np.arange(0, 151, 10))\n",
    "# cbar.set_label('Class ID')\n",
    "# plt.title('Segmentation Mask Visualization')\n",
    "# plt.axis('off')  # Hide axes\n",
    "# plt.show()"
   ]
  },
  {
   "cell_type": "code",
   "execution_count": 3,
   "metadata": {},
   "outputs": [],
   "source": [
    "# from dataset import ADE20KDATASET\n",
    "# from model import UNETMobileNetV2\n",
    "# import torch\n",
    "# from torch.utils.data import DataLoader\n",
    "\n",
    "# NUM_CLASSES = 151\n",
    "# BATCH_SIZE = 36\n",
    "# NUM_EPOCHS = 20\n",
    "# DEVICE = torch.device(\"cuda:0\" if torch.cuda.is_available() else \"cpu\")\n",
    "\n",
    "# train_dataset = ADE20KDATASET(split='train')\n",
    "# val_dataset = ADE20KDATASET(split='val')\n",
    "# test_dataset = ADE20KDATASET(split=\"test\")\n",
    "\n",
    "# train_loader = DataLoader(train_dataset, batch_size=BATCH_SIZE, shuffle=True)\n",
    "# val_loader = DataLoader(val_dataset, batch_size=BATCH_SIZE, shuffle=False)\n",
    "# test_loader = DataLoader(test_dataset, batch_size=BATCH_SIZE, shuffle=False)\n",
    "\n",
    "# # Initialize Model\n",
    "# model = UNETMobileNetV2(num_classes=NUM_CLASSES)\n",
    "# model.to(DEVICE)\n",
    "# model.load_state_dict(state_dict[\"Model_State_Dict\"])"
   ]
  },
  {
   "cell_type": "code",
   "execution_count": null,
   "metadata": {},
   "outputs": [],
   "source": [
    "torch.sigmoid()"
   ]
  }
 ],
 "metadata": {
  "kernelspec": {
   "display_name": "dl",
   "language": "python",
   "name": "python3"
  },
  "language_info": {
   "codemirror_mode": {
    "name": "ipython",
    "version": 3
   },
   "file_extension": ".py",
   "mimetype": "text/x-python",
   "name": "python",
   "nbconvert_exporter": "python",
   "pygments_lexer": "ipython3",
   "version": "3.9.21"
  }
 },
 "nbformat": 4,
 "nbformat_minor": 2
}
